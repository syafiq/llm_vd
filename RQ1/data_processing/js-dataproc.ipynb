{
 "cells": [
  {
   "cell_type": "code",
   "execution_count": 1,
   "id": "572100dd-d336-400e-82c9-385086124992",
   "metadata": {},
   "outputs": [],
   "source": [
    "import pandas as pd\n",
    "import matplotlib.pyplot as plt\n",
    "import sqlite3 as lite\n",
    "from sqlite3 import Error\n",
    "from pathlib import Path\n",
    "from datetime import date\n",
    "import numpy as np\n",
    "import matplotlib.ticker as tick\n",
    "import requests\n",
    "import difflib as diff\n",
    "import re \n",
    "import csv\n",
    "import ast\n",
    "from concurrent.futures import ThreadPoolExecutor, as_completed\n",
    "from tqdm import tqdm\n",
    "%matplotlib inline\n",
    "\n",
    "# pd.set_option('mode.chained_assignment', None)\n",
    "\n",
    "def create_connection(db_file):\n",
    "    \"\"\"\n",
    "    create a connection to sqlite3 database\n",
    "    \"\"\"\n",
    "    conn = None\n",
    "    try:\n",
    "        conn = lite.connect(db_file, timeout=10)  # connection via sqlite3\n",
    "        # engine = sa.create_engine('sqlite:///' + db_file)  # connection via sqlalchemy\n",
    "        # conn = engine.connect()\n",
    "    except Error as e:\n",
    "        print(e)\n",
    "    return conn\n",
    "\n",
    "conn = create_connection(\"../CVEfixes.db\")"
   ]
  },
  {
   "cell_type": "code",
   "execution_count": null,
   "id": "c39e33e8-755b-4b07-884a-3f1c117c3f92",
   "metadata": {},
   "outputs": [],
   "source": [
    "df_php = pd.read_sql_query(\"\"\"SELECT m.method_change_id, m.name, m.code, m.before_change, f.programming_language\n",
    "from file_change f, method_change m\n",
    "WHERE m.file_change_id=f.file_change_id\n",
    "AND f.programming_language='JavaScript';\n",
    "\"\"\", conn)\n",
    "df_php"
   ]
  },
  {
   "cell_type": "code",
   "execution_count": null,
   "id": "aaa7b522-ea6e-415f-bd60-933feb380df8",
   "metadata": {},
   "outputs": [],
   "source": [
    "df_php = df_php.drop(df_php.columns[[0,1,4]], axis=1)"
   ]
  },
  {
   "cell_type": "code",
   "execution_count": null,
   "id": "3dfac096-5b18-465a-9ae8-1afeebf7ccc3",
   "metadata": {},
   "outputs": [],
   "source": [
    "df_php = df_php.rename(columns={'before_change': 'label', 'code': 'text'})\n",
    "df_php"
   ]
  },
  {
   "cell_type": "code",
   "execution_count": null,
   "id": "48e9fab7-aee3-44a0-a385-2a667c7ef08f",
   "metadata": {},
   "outputs": [],
   "source": [
    "df_php.loc[df_php.label == 'False', 'label'] = 0\n",
    "df_php.loc[df_php.label == 'True', 'label'] = 1"
   ]
  },
  {
   "cell_type": "code",
   "execution_count": null,
   "id": "dfe21adf-0aaf-4aa2-abb0-aa57ffe85904",
   "metadata": {},
   "outputs": [],
   "source": [
    "df_php"
   ]
  },
  {
   "cell_type": "code",
   "execution_count": null,
   "id": "197c4c92-b00e-4b1c-a3e7-717186fc59ea",
   "metadata": {},
   "outputs": [],
   "source": [
    "from sklearn.model_selection import train_test_split\n",
    "\n",
    "train, test = train_test_split(df_php, test_size=0.2)\n",
    "train = train.reset_index(drop=True)\n",
    "test = test.reset_index(drop=True)"
   ]
  },
  {
   "cell_type": "code",
   "execution_count": null,
   "id": "ddcf94fe-568a-49ae-a38a-fbded478db0b",
   "metadata": {},
   "outputs": [],
   "source": [
    "train"
   ]
  },
  {
   "cell_type": "code",
   "execution_count": null,
   "id": "f1760659-1313-457f-b78c-70b11e500d07",
   "metadata": {},
   "outputs": [],
   "source": [
    "test"
   ]
  },
  {
   "cell_type": "code",
   "execution_count": null,
   "id": "f9a7014d-42fa-4ebe-b4f3-b5391ec00249",
   "metadata": {},
   "outputs": [],
   "source": [
    "train.to_json('js_train.json', orient='records')\n",
    "test.to_json('js_test.json', orient='records')"
   ]
  },
  {
   "cell_type": "code",
   "execution_count": null,
   "id": "aa7ddb26-573e-4ad7-94e7-1fc10e81d079",
   "metadata": {},
   "outputs": [],
   "source": []
  }
 ],
 "metadata": {
  "kernelspec": {
   "display_name": "Python 3 (ipykernel)",
   "language": "python",
   "name": "python3"
  },
  "language_info": {
   "codemirror_mode": {
    "name": "ipython",
    "version": 3
   },
   "file_extension": ".py",
   "mimetype": "text/x-python",
   "name": "python",
   "nbconvert_exporter": "python",
   "pygments_lexer": "ipython3",
   "version": "3.11.8"
  }
 },
 "nbformat": 4,
 "nbformat_minor": 5
}
